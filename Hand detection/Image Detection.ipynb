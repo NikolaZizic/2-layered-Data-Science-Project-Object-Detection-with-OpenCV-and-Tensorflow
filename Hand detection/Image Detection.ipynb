{
 "cells": [
  {
   "cell_type": "code",
   "execution_count": null,
   "id": "ab327d5b",
   "metadata": {},
   "outputs": [],
   "source": [
    "!pip install opencv-python\n"
   ]
  },
  {
   "cell_type": "code",
   "execution_count": null,
   "id": "7f4bab69",
   "metadata": {},
   "outputs": [],
   "source": [
    "import cv2\n",
    "import uuid #naming images uniquely to avoid overlaps\n",
    "import os\n",
    "import time #for 3 seconds break between taking images"
   ]
  },
  {
   "cell_type": "markdown",
   "id": "4d505cba",
   "metadata": {},
   "source": [
    "# Defining images\n"
   ]
  },
  {
   "cell_type": "markdown",
   "id": "3125ad03",
   "metadata": {},
   "source": [
    " Here we will define the names, or rather labels, for the images that we are going to collect and create a path that will store these images. This will also create a new folder per class."
   ]
  },
  {
   "cell_type": "code",
   "execution_count": null,
   "id": "4f5bfb90",
   "metadata": {},
   "outputs": [],
   "source": [
    "labels = ['thumbsup', 'thumbsdown', 'thankyou', 'livelong']\n",
    "number_of_images = 5 #number of images for each label"
   ]
  },
  {
   "cell_type": "code",
   "execution_count": null,
   "id": "8c62f792",
   "metadata": {},
   "outputs": [],
   "source": [
    "IMAGES_PATH = os.path.join('Tensorflow', 'workspace', 'images','collectedimages')"
   ]
  },
  {
   "cell_type": "code",
   "execution_count": null,
   "id": "fa4a73e7",
   "metadata": {},
   "outputs": [],
   "source": [
    "print(IMAGES_PATH)"
   ]
  },
  {
   "cell_type": "code",
   "execution_count": null,
   "id": "726ef1ad",
   "metadata": {},
   "outputs": [],
   "source": [
    "if not os.path.exists(IMAGES_PATH):\n",
    "    !mkdir {IMAGES_PATH}\n",
    "for label in labels:\n",
    "    path = os.path.join(IMAGES_PATH, label)\n",
    "    if not os.path.exists(path):\n",
    "        !mkdir {path}"
   ]
  },
  {
   "cell_type": "markdown",
   "id": "8d9b7d9c",
   "metadata": {},
   "source": [
    "# Taking the images"
   ]
  },
  {
   "cell_type": "markdown",
   "id": "0ebbd019",
   "metadata": {},
   "source": [
    "Here we are going to loop through our labels and connect to our webcam. There is a possibility that the second line of code won't work depending on the type of webcam that you are using; If that happens either change the value 0 to another value like 1 or 2 or just try restarting the kernel.  "
   ]
  },
  {
   "cell_type": "code",
   "execution_count": null,
   "id": "85e503ee",
   "metadata": {},
   "outputs": [],
   "source": [
    "for label in labels:\n",
    "    cap = cv2.VideoCapture(0) #this will connnect to our webcam\n",
    "    print(\"Collectiong images for {}\".format(label))\n",
    "    time.sleep(5)\n",
    "    \n",
    "    for imgnum in range(number_of_images):\n",
    "        print(\"Collecting image {}\".format(imgnum))\n",
    "        ret, frame = cap.read()#this will capture the frame of our image\n",
    "        imgname = os.path.join(IMAGES_PATH, label, label+'.'+'{}.jpg'.format(str(uuid.uuid1())))\n",
    "        cv2.imwrite(imgname, frame)\n",
    "        cv2.imshow('frame',frame)\n",
    "        time.sleep(3)\n",
    "        \n",
    "        if cv2.waitKey(1) & 0xFF == ord('q'): # you can click q on your keyboard to exit\n",
    "            break\n",
    "        \n",
    "cap.release()\n",
    "cv2.destroyAllWindows()"
   ]
  },
  {
   "cell_type": "markdown",
   "id": "1288ad9e",
   "metadata": {},
   "source": [
    "# Labelling Images"
   ]
  },
  {
   "cell_type": "markdown",
   "id": "ae41a35e",
   "metadata": {},
   "source": [
    "We will be using Labelimg that is a graphical image annotation tool. The idea is to clone the repo into a new directory on our PC. In order to run the program there is a few packages that will be needed."
   ]
  },
  {
   "cell_type": "code",
   "execution_count": null,
   "id": "af47140b",
   "metadata": {},
   "outputs": [],
   "source": [
    "! pip install --upgrade pyqt5 lxml"
   ]
  },
  {
   "cell_type": "code",
   "execution_count": null,
   "id": "b3601eb8",
   "metadata": {},
   "outputs": [],
   "source": [
    "LABELIMG_PATH = os.path.join('Tensorflow', 'labelimg')"
   ]
  },
  {
   "cell_type": "code",
   "execution_count": null,
   "id": "53b9c37a",
   "metadata": {},
   "outputs": [],
   "source": [
    "if not os.path.exists(LABELIMG_PATH):\n",
    "    !mkdir {LABELIMG_PATH}\n",
    "    !git clone https://github.com/tzutalin/labelImg {LABELIMG_PATH}"
   ]
  },
  {
   "cell_type": "code",
   "execution_count": null,
   "id": "7e75d9f5",
   "metadata": {},
   "outputs": [],
   "source": [
    "!cd {LABELIMG_PATH} && pyrcc5 -o libs/resources.py resources.qrc "
   ]
  },
  {
   "cell_type": "code",
   "execution_count": null,
   "id": "201f70d0",
   "metadata": {},
   "outputs": [],
   "source": [
    "#this line of code will open the label image application\n",
    "!cd {LABELIMG_PATH} && python labelImg.py"
   ]
  }
 ],
 "metadata": {
  "kernelspec": {
   "display_name": "tfod",
   "language": "python",
   "name": "tfod"
  },
  "language_info": {
   "codemirror_mode": {
    "name": "ipython",
    "version": 3
   },
   "file_extension": ".py",
   "mimetype": "text/x-python",
   "name": "python",
   "nbconvert_exporter": "python",
   "pygments_lexer": "ipython3",
   "version": "3.9.6"
  }
 },
 "nbformat": 4,
 "nbformat_minor": 5
}
