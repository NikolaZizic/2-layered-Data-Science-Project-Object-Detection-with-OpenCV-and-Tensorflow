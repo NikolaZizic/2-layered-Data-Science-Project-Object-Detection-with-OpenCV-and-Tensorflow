{
 "cells": [
  {
   "cell_type": "code",
   "execution_count": 1,
   "id": "ab327d5b",
   "metadata": {},
   "outputs": [
    {
     "name": "stdout",
     "output_type": "stream",
     "text": [
      "Collecting opencv-python\n",
      "  Downloading opencv_python-4.5.3.56-cp39-cp39-win_amd64.whl (34.9 MB)\n",
      "Collecting numpy>=1.19.3\n",
      "  Downloading numpy-1.21.2-cp39-cp39-win_amd64.whl (14.0 MB)\n",
      "Installing collected packages: numpy, opencv-python\n",
      "Successfully installed numpy-1.21.2 opencv-python-4.5.3.56\n"
     ]
    }
   ],
   "source": [
    "!pip install opencv-python\n"
   ]
  },
  {
   "cell_type": "code",
   "execution_count": 1,
   "id": "7f4bab69",
   "metadata": {},
   "outputs": [],
   "source": [
    "import cv2\n",
    "import uuid #naming images uniquely to avoid overlaps\n",
    "import os\n",
    "import time #for 3 seconds break between taking images"
   ]
  },
  {
   "cell_type": "markdown",
   "id": "4d505cba",
   "metadata": {},
   "source": [
    "# Defining images\n"
   ]
  },
  {
   "cell_type": "markdown",
   "id": "3125ad03",
   "metadata": {},
   "source": [
    " Here we will define the names, or rather labels, for the images that we are going to collect and create a path that will store these images. This will also create a new folder per class."
   ]
  },
  {
   "cell_type": "code",
   "execution_count": 2,
   "id": "4f5bfb90",
   "metadata": {},
   "outputs": [],
   "source": [
    "labels = ['thumbsup', 'thumbsdown', 'thankyou', 'livelong']\n",
    "number_of_images = 5 #number of images for each label"
   ]
  },
  {
   "cell_type": "code",
   "execution_count": 3,
   "id": "8c62f792",
   "metadata": {},
   "outputs": [],
   "source": [
    "IMAGES_PATH = os.path.join('Tensorflow', 'workspace', 'images','collectedimages')"
   ]
  },
  {
   "cell_type": "code",
   "execution_count": 5,
   "id": "fa4a73e7",
   "metadata": {},
   "outputs": [
    {
     "name": "stdout",
     "output_type": "stream",
     "text": [
      "Tensorflow\\workspace\\images\\collectedimages\n"
     ]
    }
   ],
   "source": [
    "print(IMAGES_PATH)"
   ]
  },
  {
   "cell_type": "code",
   "execution_count": null,
   "id": "726ef1ad",
   "metadata": {},
   "outputs": [],
   "source": [
    "if not os.path.exists(IMAGES_PATH):\n",
    "    !mkdir {IMAGES_PATH}\n",
    "for label in labels:\n",
    "    path = os.path.join(IMAGES_PATH, label)\n",
    "    if not os.path.exists(path):\n",
    "        !mkdir {path}"
   ]
  },
  {
   "cell_type": "markdown",
   "id": "8d9b7d9c",
   "metadata": {},
   "source": [
    "# Taking the images"
   ]
  },
  {
   "cell_type": "markdown",
   "id": "0ebbd019",
   "metadata": {},
   "source": [
    "Here we are going to loop through our labels and connect to our webcam. There is a possibility that the second line of code won't work depending on the type of webcam that you are using; If that happens either change the value 0 to another value like 1 or 2 or just try restarting the kernel.  "
   ]
  },
  {
   "cell_type": "code",
   "execution_count": 7,
   "id": "85e503ee",
   "metadata": {},
   "outputs": [
    {
     "name": "stdout",
     "output_type": "stream",
     "text": [
      "Collectiong images for thumbsup\n",
      "Collecting image 0\n",
      "Collecting image 1\n",
      "Collecting image 2\n",
      "Collecting image 3\n",
      "Collecting image 4\n",
      "Collectiong images for thumbsdown\n",
      "Collecting image 0\n",
      "Collecting image 1\n",
      "Collecting image 2\n",
      "Collecting image 3\n",
      "Collecting image 4\n",
      "Collectiong images for thankyou\n",
      "Collecting image 0\n",
      "Collecting image 1\n",
      "Collecting image 2\n",
      "Collecting image 3\n",
      "Collecting image 4\n",
      "Collectiong images for livelong\n",
      "Collecting image 0\n",
      "Collecting image 1\n",
      "Collecting image 2\n",
      "Collecting image 3\n",
      "Collecting image 4\n"
     ]
    }
   ],
   "source": [
    "for label in labels:\n",
    "    cap = cv2.VideoCapture(0) #this will connnect to our webcam\n",
    "    print(\"Collectiong images for {}\".format(label))\n",
    "    time.sleep(5)\n",
    "    \n",
    "    for imgnum in range(number_of_images):\n",
    "        print(\"Collecting image {}\".format(imgnum))\n",
    "        ret, frame = cap.read()#this will capture the frame of our image\n",
    "        imgname = os.path.join(IMAGES_PATH, label, label+'.'+'{}.jpg'.format(str(uuid.uuid1())))\n",
    "        cv2.imwrite(imgname, frame)\n",
    "        cv2.imshow('frame',frame)\n",
    "        time.sleep(3)\n",
    "        \n",
    "        if cv2.waitKey(1) & 0xFF == ord('q'): # you can click q on your keyboard to exit\n",
    "            break\n",
    "        \n",
    "cap.release()\n",
    "cv2.destroyAllWindows()"
   ]
  },
  {
   "cell_type": "markdown",
   "id": "1288ad9e",
   "metadata": {},
   "source": [
    "# Labelling Images"
   ]
  },
  {
   "cell_type": "markdown",
   "id": "ae41a35e",
   "metadata": {},
   "source": [
    "We will be using Labelimg that is a graphical image annotation tool. The idea is to clone the repo into a new directory on our PC. In order to run the program there is a few packages that will be needed."
   ]
  },
  {
   "cell_type": "code",
   "execution_count": 11,
   "id": "af47140b",
   "metadata": {},
   "outputs": [
    {
     "name": "stdout",
     "output_type": "stream",
     "text": [
      "Collecting pyqt5\n",
      "  Downloading PyQt5-5.15.4-cp36.cp37.cp38.cp39-none-win_amd64.whl (6.8 MB)\n",
      "Collecting lxml\n",
      "  Downloading lxml-4.6.3-cp39-cp39-win_amd64.whl (3.5 MB)\n",
      "Collecting PyQt5-sip<13,>=12.8\n",
      "  Downloading PyQt5_sip-12.9.0-cp39-cp39-win_amd64.whl (63 kB)\n",
      "Collecting PyQt5-Qt5>=5.15\n",
      "  Downloading PyQt5_Qt5-5.15.2-py3-none-win_amd64.whl (50.1 MB)\n",
      "Installing collected packages: PyQt5-sip, PyQt5-Qt5, pyqt5, lxml\n",
      "Successfully installed PyQt5-Qt5-5.15.2 PyQt5-sip-12.9.0 lxml-4.6.3 pyqt5-5.15.4\n"
     ]
    }
   ],
   "source": [
    "! pip install --upgrade pyqt5 lxml"
   ]
  },
  {
   "cell_type": "code",
   "execution_count": 9,
   "id": "b3601eb8",
   "metadata": {},
   "outputs": [],
   "source": [
    "LABELIMG_PATH = os.path.join('Tensorflow', 'labelimg')"
   ]
  },
  {
   "cell_type": "code",
   "execution_count": 10,
   "id": "53b9c37a",
   "metadata": {},
   "outputs": [
    {
     "name": "stderr",
     "output_type": "stream",
     "text": [
      "Cloning into 'Tensorflow\\labelimg'...\n"
     ]
    }
   ],
   "source": [
    "if not os.path.exists(LABELIMG_PATH):\n",
    "    !mkdir {LABELIMG_PATH}\n",
    "    !git clone https://github.com/tzutalin/labelImg {LABELIMG_PATH}"
   ]
  },
  {
   "cell_type": "code",
   "execution_count": 15,
   "id": "7e75d9f5",
   "metadata": {},
   "outputs": [],
   "source": [
    "!cd {LABELIMG_PATH} && pyrcc5 -o libs/resources.py resources.qrc "
   ]
  },
  {
   "cell_type": "code",
   "execution_count": 16,
   "id": "201f70d0",
   "metadata": {},
   "outputs": [
    {
     "name": "stdout",
     "output_type": "stream",
     "text": [
      "Image:C:\\Users\\850\\anaconda3\\envs\\tfod\\Tensorflow\\workspace\\images\\collectedimages\\livelong\\livelong.eacd8c57-12f4-11ec-a449-5820b1dd1544.jpg -> Annotation:C:/Users/850/anaconda3/envs/tfod/Tensorflow/workspace/images/collectedimages/livelong/livelong.eacd8c57-12f4-11ec-a449-5820b1dd1544.xml\n",
      "Image:C:\\Users\\850\\anaconda3\\envs\\tfod\\Tensorflow\\workspace\\images\\collectedimages\\livelong\\livelong.ec9dd124-12f4-11ec-a452-5820b1dd1544.jpg -> Annotation:C:/Users/850/anaconda3/envs/tfod/Tensorflow/workspace/images/collectedimages/livelong/livelong.ec9dd124-12f4-11ec-a452-5820b1dd1544.xml\n",
      "Image:C:\\Users\\850\\anaconda3\\envs\\tfod\\Tensorflow\\workspace\\images\\collectedimages\\livelong\\livelong.ee6ee923-12f4-11ec-b890-5820b1dd1544.jpg -> Annotation:C:/Users/850/anaconda3/envs/tfod/Tensorflow/workspace/images/collectedimages/livelong/livelong.ee6ee923-12f4-11ec-b890-5820b1dd1544.xml\n",
      "Cancel creation.\n",
      "Image:C:\\Users\\850\\anaconda3\\envs\\tfod\\Tensorflow\\workspace\\images\\collectedimages\\livelong\\livelong.f03dc78c-12f4-11ec-ae93-5820b1dd1544.jpg -> Annotation:C:/Users/850/anaconda3/envs/tfod/Tensorflow/workspace/images/collectedimages/livelong/livelong.f03dc78c-12f4-11ec-ae93-5820b1dd1544.xml\n",
      "Image:C:\\Users\\850\\anaconda3\\envs\\tfod\\Tensorflow\\workspace\\images\\collectedimages\\livelong\\livelong.f20d981e-12f4-11ec-9209-5820b1dd1544.jpg -> Annotation:C:/Users/850/anaconda3/envs/tfod/Tensorflow/workspace/images/collectedimages/livelong/livelong.f20d981e-12f4-11ec-9209-5820b1dd1544.xml\n",
      "Image:C:\\Users\\850\\anaconda3\\envs\\tfod\\Tensorflow\\workspace\\images\\collectedimages\\thankyou\\thankyou.d72112a4-12f4-11ec-9ead-5820b1dd1544.jpg -> Annotation:C:/Users/850/anaconda3/envs/tfod/Tensorflow/workspace/images/collectedimages/thankyou/thankyou.d72112a4-12f4-11ec-9ead-5820b1dd1544.xml\n",
      "Image:C:\\Users\\850\\anaconda3\\envs\\tfod\\Tensorflow\\workspace\\images\\collectedimages\\thankyou\\thankyou.d5509b64-12f4-11ec-802c-5820b1dd1544.jpg -> Annotation:C:/Users/850/anaconda3/envs/tfod/Tensorflow/workspace/images/collectedimages/thankyou/thankyou.d5509b64-12f4-11ec-802c-5820b1dd1544.xml\n",
      "Image:C:\\Users\\850\\anaconda3\\envs\\tfod\\Tensorflow\\workspace\\images\\collectedimages\\thankyou\\thankyou.d8f13ff6-12f4-11ec-9ad8-5820b1dd1544.jpg -> Annotation:C:/Users/850/anaconda3/envs/tfod/Tensorflow/workspace/images/collectedimages/thankyou/thankyou.d8f13ff6-12f4-11ec-9ad8-5820b1dd1544.xml\n",
      "Image:C:\\Users\\850\\anaconda3\\envs\\tfod\\Tensorflow\\workspace\\images\\collectedimages\\thankyou\\thankyou.dac24991-12f4-11ec-b562-5820b1dd1544.jpg -> Annotation:C:/Users/850/anaconda3/envs/tfod/Tensorflow/workspace/images/collectedimages/thankyou/thankyou.dac24991-12f4-11ec-b562-5820b1dd1544.xml\n",
      "Image:C:\\Users\\850\\anaconda3\\envs\\tfod\\Tensorflow\\workspace\\images\\collectedimages\\thankyou\\thankyou.dc92b555-12f4-11ec-8e82-5820b1dd1544.jpg -> Annotation:C:/Users/850/anaconda3/envs/tfod/Tensorflow/workspace/images/collectedimages/thankyou/thankyou.dc92b555-12f4-11ec-8e82-5820b1dd1544.xml\n",
      "Image:C:\\Users\\850\\anaconda3\\envs\\tfod\\Tensorflow\\workspace\\images\\collectedimages\\thumbsdown\\thumbsdown.bf226f4d-12f4-11ec-9225-5820b1dd1544.jpg -> Annotation:C:/Users/850/anaconda3/envs/tfod/Tensorflow/workspace/images/collectedimages/thumbsdown/thumbsdown.bf226f4d-12f4-11ec-9225-5820b1dd1544.xml\n",
      "Image:C:\\Users\\850\\anaconda3\\envs\\tfod\\Tensorflow\\workspace\\images\\collectedimages\\thumbsdown\\thumbsdown.c0f40618-12f4-11ec-972e-5820b1dd1544.jpg -> Annotation:C:/Users/850/anaconda3/envs/tfod/Tensorflow/workspace/images/collectedimages/thumbsdown/thumbsdown.c0f40618-12f4-11ec-972e-5820b1dd1544.xml\n",
      "Image:C:\\Users\\850\\anaconda3\\envs\\tfod\\Tensorflow\\workspace\\images\\collectedimages\\thumbsdown\\thumbsdown.c2c46297-12f4-11ec-aa95-5820b1dd1544.jpg -> Annotation:C:/Users/850/anaconda3/envs/tfod/Tensorflow/workspace/images/collectedimages/thumbsdown/thumbsdown.c2c46297-12f4-11ec-aa95-5820b1dd1544.xml\n",
      "Image:C:\\Users\\850\\anaconda3\\envs\\tfod\\Tensorflow\\workspace\\images\\collectedimages\\thumbsdown\\thumbsdown.c495f252-12f4-11ec-9a88-5820b1dd1544.jpg -> Annotation:C:/Users/850/anaconda3/envs/tfod/Tensorflow/workspace/images/collectedimages/thumbsdown/thumbsdown.c495f252-12f4-11ec-9a88-5820b1dd1544.xml\n",
      "Image:C:\\Users\\850\\anaconda3\\envs\\tfod\\Tensorflow\\workspace\\images\\collectedimages\\thumbsdown\\thumbsdown.c666e4fd-12f4-11ec-83a8-5820b1dd1544.jpg -> Annotation:C:/Users/850/anaconda3/envs/tfod/Tensorflow/workspace/images/collectedimages/thumbsdown/thumbsdown.c666e4fd-12f4-11ec-83a8-5820b1dd1544.xml\n",
      "Image:C:\\Users\\850\\anaconda3\\envs\\tfod\\Tensorflow\\workspace\\images\\collectedimages\\thumbsup\\thumbsup.a969cfc1-12f4-11ec-b3f7-5820b1dd1544.jpg -> Annotation:C:/Users/850/anaconda3/envs/tfod/Tensorflow/workspace/images/collectedimages/thumbsup/thumbsup.a969cfc1-12f4-11ec-b3f7-5820b1dd1544.xml\n",
      "Image:C:\\Users\\850\\anaconda3\\envs\\tfod\\Tensorflow\\workspace\\images\\collectedimages\\thumbsup\\thumbsup.ab421a5d-12f4-11ec-9553-5820b1dd1544.jpg -> Annotation:C:/Users/850/anaconda3/envs/tfod/Tensorflow/workspace/images/collectedimages/thumbsup/thumbsup.ab421a5d-12f4-11ec-9553-5820b1dd1544.xml\n",
      "Image:C:\\Users\\850\\anaconda3\\envs\\tfod\\Tensorflow\\workspace\\images\\collectedimages\\thumbsup\\thumbsup.ad0f39a9-12f4-11ec-8585-5820b1dd1544.jpg -> Annotation:C:/Users/850/anaconda3/envs/tfod/Tensorflow/workspace/images/collectedimages/thumbsup/thumbsup.ad0f39a9-12f4-11ec-8585-5820b1dd1544.xml\n",
      "Image:C:\\Users\\850\\anaconda3\\envs\\tfod\\Tensorflow\\workspace\\images\\collectedimages\\thumbsup\\thumbsup.aee01db2-12f4-11ec-ac54-5820b1dd1544.jpg -> Annotation:C:/Users/850/anaconda3/envs/tfod/Tensorflow/workspace/images/collectedimages/thumbsup/thumbsup.aee01db2-12f4-11ec-ac54-5820b1dd1544.xml\n",
      "Image:C:\\Users\\850\\anaconda3\\envs\\tfod\\Tensorflow\\workspace\\images\\collectedimages\\thumbsup\\thumbsup.b0b1b0ad-12f4-11ec-8ea4-5820b1dd1544.jpg -> Annotation:C:/Users/850/anaconda3/envs/tfod/Tensorflow/workspace/images/collectedimages/thumbsup/thumbsup.b0b1b0ad-12f4-11ec-8ea4-5820b1dd1544.xml\n"
     ]
    }
   ],
   "source": [
    "#this line of code will open the label image application\n",
    "!cd {LABELIMG_PATH} && python labelImg.py"
   ]
  }
 ],
 "metadata": {
  "kernelspec": {
   "display_name": "tfod",
   "language": "python",
   "name": "tfod"
  },
  "language_info": {
   "codemirror_mode": {
    "name": "ipython",
    "version": 3
   },
   "file_extension": ".py",
   "mimetype": "text/x-python",
   "name": "python",
   "nbconvert_exporter": "python",
   "pygments_lexer": "ipython3",
   "version": "3.9.6"
  }
 },
 "nbformat": 4,
 "nbformat_minor": 5
}
