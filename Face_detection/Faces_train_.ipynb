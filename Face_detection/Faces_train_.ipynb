{
 "cells": [
  {
   "cell_type": "code",
   "execution_count": 2,
   "id": "7bba914b",
   "metadata": {},
   "outputs": [],
   "source": [
    "import cv2\n",
    "import os \n",
    "from PIL import Image\n",
    "import numpy as np\n",
    "import pickle"
   ]
  },
  {
   "cell_type": "code",
   "execution_count": 4,
   "id": "f13b34ce",
   "metadata": {},
   "outputs": [],
   "source": [
    "base_dir = 'C:/Users/Andrija/.spyder-py3/' # directory for this project\n",
    "image_dir = os.path.join(base_dir, \"images\")\n",
    "\n",
    "caspath = 'C:/Users/Andrija/.spyder-py3/cascades/data/haarcascade_frontalface_alt2.xml' # our algorithm\n",
    "face_cascade = cv2.CascadeClassifier(caspath)\n",
    "recognizer = cv2.face.LBPHFaceRecognizer_create()\n",
    "current_id=0\n",
    "\n",
    "label_ids = {}\n",
    "x_train = []\n",
    "y_labels = []\n",
    "\n",
    "for root, dirs, files in os.walk(image_dir):\n",
    "    for file in files :\n",
    "        if file.endswith(\"png\") or file.endswith(\"jpg\"): # we take all files ending with png or jpg \n",
    "            path = os.path.join(root, file)\n",
    "            label= os.path.basename(os.path.dirname(path)).replace(\" \", \"-\").lower()\n",
    "            \n",
    "            if not label in label_ids:\n",
    "            \n",
    "                label_ids[label] = current_id\n",
    "                current_id += 1\n",
    "            id_ = label_ids[label]\n",
    "            #print (label_ids)\n",
    "            #y_labels.append(label)\n",
    "            #x_train.append(path)\n",
    "            pil_image = Image.open(path).convert(\"L\")\n",
    "            size = (550,550)\n",
    "            final_image = pil_image.resize(size, Image.ANTIALIAS)\n",
    "            \n",
    "            image_array = np.array(final_image, \"uint8\")\n",
    "            #print(image_array) # pikscels\n",
    "            faces = face_cascade.detectMultiScale(image_array, scaleFactor = 1.5,minNeighbors = 5 )\n",
    "            \n",
    "            for (x,y,w,h) in faces:\n",
    "                roi = image_array[y:y+h, x:x+w]\n",
    "                x_train.append(roi)\n",
    "                y_labels.append(id_)\n",
    "            \n",
    "#print(y_labels)\n",
    "#print(x_train)  \n",
    "\n",
    "with open(\"labels.pickle\", 'wb') as f:\n",
    "    pickle.dump(label_ids, f)\n",
    "\n",
    "recognizer.train(x_train, np.array(y_labels))\n",
    "recognizer.save(\"trainner.yml\") # saving our traning model"
   ]
  }
 ],
 "metadata": {
  "kernelspec": {
   "display_name": "Python 3",
   "language": "python",
   "name": "python3"
  },
  "language_info": {
   "codemirror_mode": {
    "name": "ipython",
    "version": 3
   },
   "file_extension": ".py",
   "mimetype": "text/x-python",
   "name": "python",
   "nbconvert_exporter": "python",
   "pygments_lexer": "ipython3",
   "version": "3.8.8"
  }
 },
 "nbformat": 4,
 "nbformat_minor": 5
}
