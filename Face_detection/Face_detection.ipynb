{
 "cells": [
  {
   "cell_type": "code",
   "execution_count": 2,
   "id": "a9de1473",
   "metadata": {},
   "outputs": [],
   "source": [
    "import numpy as np\n",
    "import cv2\n",
    "import pickle\n",
    "import statistics as stat"
   ]
  },
  {
   "cell_type": "code",
   "execution_count": 5,
   "id": "985a7e77",
   "metadata": {},
   "outputs": [],
   "source": [
    "caspath = 'C:/Users/Andrija/.spyder-py3/cascades/data/haarcascade_frontalface_alt2.xml'\n",
    "face_cascade = cv2.CascadeClassifier(caspath)\n",
    "recognizer = cv2.face.LBPHFaceRecognizer_create()\n",
    "recognizer.read(\"C:/Users/Andrija/.spyder-py3/trainner.yml\") # collecting the data from tainning model\n",
    "path = 'C:/Users/Andrija/.spyder-py3/images/new/'\n",
    "labels = {}\n",
    "with open(\"C:/Users/Andrija/.spyder-py3/labels.pickle\", 'rb') as f:\n",
    "    og_lables = pickle.load(f)\n",
    "    labels = {v:k for k,v in og_lables.items()} # to invert lables \n",
    "\n",
    "cap = cv2.VideoCapture(0) # opening of web cam\n",
    "stor_conf = [] # list where we will store all levels of confidance\n",
    "while True:\n",
    "    key = cv2.waitKey(20) & 0xFF\n",
    "    ret, frame = cap.read()\n",
    "    gray = cv2.cvtColor(frame, cv2.COLOR_BGR2GRAY)\n",
    "    faces = face_cascade.detectMultiScale(gray, scaleFactor = 1.5,minNeighbors = 5 )\n",
    "    for (x, y, w, h) in faces:\n",
    "        #print (x, y , w, h)\n",
    "        roi_gray = gray[y:y+h, x:x+w] # roi is region of interst\n",
    "        roi_color = frame[y:y+h, x:x+w]\n",
    "        canny = cv2.Canny(frame,100,100)\n",
    "        id_, conf = recognizer.predict(roi_gray)\n",
    "        \n",
    "        \n",
    "     \n",
    "            \n",
    "        if conf >= 60 and id_ == 0: # we take all confs > 60 and id_ = 0 is the id for Andrija\n",
    "            print(id_)           \n",
    "            print(labels[id_], conf)\n",
    "            stor_conf.append(conf)\n",
    "            \n",
    "            font = cv2.FONT_HERSHEY_SIMPLEX\n",
    "            name = labels[id_]\n",
    "            color = (255,255,255)\n",
    "            stroke = 2 \n",
    "            \n",
    "            cv2.putText(frame, name, (x,y), font, 1, color, stroke, cv2.LINE_AA) # the label\n",
    "        if id_ != 0 or conf < 60: # if it's not Andrija or conf < 60, the label will be \"Unknown\"\n",
    "            font = cv2.FONT_HERSHEY_SIMPLEX\n",
    "            color = (255,255,255)\n",
    "            stroke = 2 \n",
    "            cv2.putText(frame, \"Unknown\", (x,y), font, 1, color, stroke, cv2.LINE_AA)\n",
    "        \n",
    "            \n",
    "            \n",
    "        color = (255,0,0)\n",
    "        stroke = 2\n",
    "        end_cord_x = x+w #width\n",
    "        end_cord_y = y+h #height\n",
    "        cv2.rectangle(frame, (x, y), (end_cord_x, end_cord_y), color, stroke) # Rectangle \n",
    "    \n",
    "    cv2.imshow('frame', frame)\n",
    "    if len(stor_conf) > 10 and stat.mean(stor_conf) > 70: \n",
    "        break\n",
    "    \n",
    "    if  key == ord('q'):\n",
    "        break\n",
    "    \n",
    "     \n",
    "cap.release()\n",
    "cv2.destroyAllWindows()"
   ]
  }
 ],
 "metadata": {
  "kernelspec": {
   "display_name": "Python 3",
   "language": "python",
   "name": "python3"
  },
  "language_info": {
   "codemirror_mode": {
    "name": "ipython",
    "version": 3
   },
   "file_extension": ".py",
   "mimetype": "text/x-python",
   "name": "python",
   "nbconvert_exporter": "python",
   "pygments_lexer": "ipython3",
   "version": "3.8.8"
  }
 },
 "nbformat": 4,
 "nbformat_minor": 5
}
